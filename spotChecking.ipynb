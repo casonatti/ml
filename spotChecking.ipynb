{
 "cells": [
  {
   "cell_type": "markdown",
   "metadata": {},
   "source": [
    "### Imports\n",
    " Primeiramente são importadas as bibliotecass\n",
    "nescessárias, sendo elas:\n",
    " - pandas: para leitura dos dados da base de dados\n",
    " - sklearn model_selection: para seleção dos modelos,   neste caso utiliza-se o k-fold apenas\n",
    " \n",
    "    As demais são os métodos de regressão escolhidos:\n",
    " - Regressão Linear\n",
    " - Elastic Net\n",
    " - Arvore de Decisão (Regressão)\n",
    " - Floresta Aleatória (Regressão)\n",
    " - Boosting de gradiente (Regressão)\n",
    " - Support Vector (Regressão)"
   ]
  },
  {
   "cell_type": "code",
   "execution_count": 253,
   "metadata": {},
   "outputs": [],
   "source": [
    "import pandas as pd\n",
    "from sklearn import model_selection\n",
    "from sklearn.linear_model import LinearRegression\n",
    "from sklearn.linear_model import ElasticNet\n",
    "from sklearn.tree import DecisionTreeRegressor\n",
    "from sklearn.ensemble import RandomForestRegressor\n",
    "from sklearn.ensemble import GradientBoostingRegressor\n",
    "from sklearn.svm import SVR"
   ]
  },
  {
   "cell_type": "markdown",
   "metadata": {},
   "source": [
    "### Base de Dados\n",
    "Então realiza-se a leitura da base de dados contida no arquivo 'Analise Geral Normalizada.xlsx' e seus dados são divididos entre:\n",
    "- X : dados de entrada da função.\n",
    "- Y : valor a ser predito"
   ]
  },
  {
   "cell_type": "code",
   "execution_count": 254,
   "metadata": {},
   "outputs": [],
   "source": [
    "df = pd.read_excel(\"Analise Geral Normalizada.xlsx\")\n",
    "array = df.values\n",
    "X = array[:,1:23]\n",
    "Y = array[:,23]"
   ]
  },
  {
   "cell_type": "markdown",
   "metadata": {},
   "source": [
    "### K-fold\n",
    "  Cria-se o modelo k-fold utilizando 12 folds (a\n",
    "partir de 12 folds não houve melhoria consideravel nos valores de acurácia nas saídas, e se tornam bastante custosos a partir deste ponto)"
   ]
  },
  {
   "cell_type": "code",
   "execution_count": 255,
   "metadata": {},
   "outputs": [],
   "source": [
    "seed = 1\n",
    "kfold = model_selection.KFold(n_splits=12, random_state=seed, shuffle=True)"
   ]
  },
  {
   "cell_type": "markdown",
   "metadata": {},
   "source": [
    "### Modelos de teste\n",
    "Criam-se os modelos de teste"
   ]
  },
  {
   "cell_type": "code",
   "execution_count": 256,
   "metadata": {},
   "outputs": [],
   "source": [
    "linearReg = LinearRegression()\n",
    "elastic = ElasticNet()\n",
    "tree = DecisionTreeRegressor()\n",
    "forest = RandomForestRegressor()\n",
    "boosting = GradientBoostingRegressor()\n",
    "supportVector = SVR()"
   ]
  },
  {
   "cell_type": "markdown",
   "metadata": {},
   "source": [
    "### Testes por fit"
   ]
  },
  {
   "cell_type": "code",
   "execution_count": 257,
   "metadata": {},
   "outputs": [],
   "source": [
    "X_train, X_test, y_train, y_test = model_selection.train_test_split(X, Y, test_size=0.2, random_state=42)"
   ]
  },
  {
   "cell_type": "markdown",
   "metadata": {},
   "source": [
    "### Linear Regression"
   ]
  },
  {
   "cell_type": "code",
   "execution_count": 258,
   "metadata": {},
   "outputs": [],
   "source": [
    "linearReg.fit(X_train, y_train)\n",
    "\n",
    "y_pred = linearReg.predict(X_test)\n",
    "print(\"Previsões:\", y_pred[:10])\n"
   ]
  },
  {
   "cell_type": "code",
   "execution_count": 259,
   "metadata": {},
   "outputs": [],
   "source": [
    "score = linearReg.score(X_test, y_test)\n",
    "print(\"R^2 score:\", score)"
   ]
  },
  {
   "cell_type": "markdown",
   "metadata": {},
   "source": [
    "### Elastic Net"
   ]
  },
  {
   "cell_type": "code",
   "execution_count": 260,
   "metadata": {},
   "outputs": [],
   "source": [
    "elastic.fit(X_train, y_train)\n",
    "\n",
    "y_pred = linearReg.predict(X_test)\n",
    "print(\"Previsões:\", y_pred[:10])"
   ]
  },
  {
   "cell_type": "code",
   "execution_count": 261,
   "metadata": {},
   "outputs": [],
   "source": [
    "score = elastic.score(X_test, y_test)\n",
    "print(\"R^2 score:\", score)"
   ]
  },
  {
   "cell_type": "markdown",
   "metadata": {},
   "source": [
    "### Árvore de decisão"
   ]
  },
  {
   "cell_type": "code",
   "execution_count": 262,
   "metadata": {},
   "outputs": [],
   "source": [
    "tree.fit(X_train, y_train)\n",
    "\n",
    "y_pred = linearReg.predict(X_test)\n",
    "print(\"Previsões:\", y_pred[:10])"
   ]
  },
  {
   "cell_type": "code",
   "execution_count": 263,
   "metadata": {},
   "outputs": [],
   "source": [
    "score = tree.score(X_test, y_test)\n",
    "print(\"R^2 score:\", score)"
   ]
  },
  {
   "cell_type": "markdown",
   "metadata": {},
   "source": [
    "### Floresta Aleatoria"
   ]
  },
  {
   "cell_type": "code",
   "execution_count": 264,
   "metadata": {},
   "outputs": [],
   "source": [
    "forest.fit(X_train, y_train)\n",
    "\n",
    "y_pred = linearReg.predict(X_test)\n",
    "print(\"Previsões:\", y_pred[:10])"
   ]
  },
  {
   "cell_type": "code",
   "execution_count": 265,
   "metadata": {},
   "outputs": [],
   "source": [
    "score = forest.score(X_test, y_test)\n",
    "print(\"R^2 score:\", score)"
   ]
  },
  {
   "cell_type": "markdown",
   "metadata": {},
   "source": [
    "### Boosting de Gradiente"
   ]
  },
  {
   "cell_type": "code",
   "execution_count": 266,
   "metadata": {},
   "outputs": [],
   "source": [
    "boosting.fit(X_train, y_train)\n",
    "\n",
    "y_pred = linearReg.predict(X_test)\n",
    "print(\"Previsões:\", y_pred[:10])"
   ]
  },
  {
   "cell_type": "code",
   "execution_count": 267,
   "metadata": {},
   "outputs": [],
   "source": [
    "score = boosting.score(X_test, y_test)\n",
    "print(\"R^2 score:\", score)"
   ]
  },
  {
   "cell_type": "markdown",
   "metadata": {},
   "source": [
    "### Support Vector"
   ]
  },
  {
   "cell_type": "code",
   "execution_count": 268,
   "metadata": {},
   "outputs": [],
   "source": [
    "supportVector.fit(X_train, y_train)\n",
    "\n",
    "y_pred = linearReg.predict(X_test)\n",
    "print(\"Previsões:\", y_pred[:10])"
   ]
  },
  {
   "cell_type": "code",
   "execution_count": 269,
   "metadata": {},
   "outputs": [],
   "source": [
    "score = supportVector.score(X_test, y_test)\n",
    "print(\"R^2 score:\", score)"
   ]
  },
  {
   "cell_type": "markdown",
   "metadata": {},
   "source": [
    "### Cross Validation\n",
    "Executa o cross validation dos K-folds nos modelos de teste"
   ]
  },
  {
   "cell_type": "code",
   "execution_count": 270,
   "metadata": {},
   "outputs": [],
   "source": [
    "results = [['Linear Regression:', model_selection.cross_val_score(linearReg, X, Y, cv=kfold)],\n",
    "           ['Elastic Net:', model_selection.cross_val_score(elastic, X, Y, cv=kfold)],\n",
    "           ['Decision Tree:', model_selection.cross_val_score(tree, X, Y, cv=kfold)],\n",
    "           ['Random Forest:', model_selection.cross_val_score(forest, X, Y, cv=kfold)],\n",
    "           ['Gradient Boosting:', model_selection.cross_val_score(boosting, X, Y, cv=kfold)],\n",
    "           ['Support Vector:', model_selection.cross_val_score(supportVector, X, Y, cv=kfold)],\n",
    "]"
   ]
  },
  {
   "cell_type": "markdown",
   "metadata": {},
   "source": [
    "### Analise\n",
    "Analise final dos testes de cross validation, sendo apresentados os dados de acurácia média entre os diferentes modelos"
   ]
  },
  {
   "cell_type": "code",
   "execution_count": 271,
   "metadata": {},
   "outputs": [],
   "source": [
    "for result in results:\n",
    "    print(result[0], result[1])\n",
    "    print('Média', result[1].mean())\n",
    "    print()"
   ]
  },
  {
   "cell_type": "code",
   "execution_count": null,
   "metadata": {},
   "outputs": [],
   "source": []
  },
  {
   "cell_type": "markdown",
   "metadata": {},
   "source": [
    "Foram encontrados melhores resultados nos casos de Florestas Aleatória, Boosting de Gradiente e Árvore de Decisão"
   ]
  }
 ],
 "metadata": {
  "kernelspec": {
   "display_name": "Python 3",
   "language": "python",
   "name": "python3"
  },
  "language_info": {
   "codemirror_mode": {
    "name": "ipython",
    "version": 3
   },
   "file_extension": ".py",
   "mimetype": "text/x-python",
   "name": "python",
   "nbconvert_exporter": "python",
   "pygments_lexer": "ipython3",
   "version": "3.11.4"
  }
 },
 "nbformat": 4,
 "nbformat_minor": 2
}
