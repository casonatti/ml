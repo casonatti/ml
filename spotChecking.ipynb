{
 "cells": [
  {
   "cell_type": "markdown",
   "metadata": {},
   "source": [
    "### Imports\n",
    " Primeiramente são importadas as bibliotecass\n",
    "nescessárias, sendo elas:\n",
    " - pandas: para leitura dos dados da base de dados\n",
    " - sklearn model_selection: para seleção dos modelos,   neste caso utiliza-se o k-fold apenas\n",
    " \n",
    "    As demais são os métodos de regressão escolhidos:\n",
    " - Regressão Linear\n",
    " - Elastic Net\n",
    " - Arvore de Decisão (Regressão)\n",
    " - Floresta Aleatória (Regressão)\n",
    " - Boosting de gradiente (Regressão)\n",
    " - Support Vector (Regressão)"
   ]
  },
  {
   "cell_type": "code",
   "execution_count": 33,
   "metadata": {},
   "outputs": [],
   "source": [
    "import pandas as pd\n",
    "import numpy as np\n",
    "\n",
    "from sklearn import model_selection\n",
    "from sklearn.linear_model import LinearRegression\n",
    "from sklearn.linear_model import ElasticNet\n",
    "from sklearn.tree import DecisionTreeRegressor\n",
    "from sklearn.ensemble import RandomForestRegressor\n",
    "from sklearn.ensemble import GradientBoostingRegressor\n",
    "from sklearn.svm import SVR"
   ]
  },
  {
   "cell_type": "markdown",
   "metadata": {},
   "source": [
    "### Base de Dados\n",
    "Então realiza-se a leitura da base de dados contida no arquivo 'Analise Geral Normalizada.xlsx' e seus dados são divididos entre:\n",
    "- X : dados de entrada da função.\n",
    "- Y : valor a ser predito"
   ]
  },
  {
   "cell_type": "code",
   "execution_count": 34,
   "metadata": {},
   "outputs": [],
   "source": [
    "df = pd.read_excel(\"Analise Geral Normalizada.xlsx\")\n",
    "array = df.values\n",
    "X = array[:,1:23]\n",
    "Y = array[:,23]"
   ]
  },
  {
   "cell_type": "markdown",
   "metadata": {},
   "source": [
    "### Modelos de teste\n",
    "Criam-se os modelos de teste"
   ]
  },
  {
   "cell_type": "code",
   "execution_count": 35,
   "metadata": {},
   "outputs": [],
   "source": [
    "linearReg = LinearRegression()\n",
    "elastic = ElasticNet()\n",
    "Dtree = DecisionTreeRegressor()\n",
    "forest = RandomForestRegressor()\n",
    "boosting = GradientBoostingRegressor()\n",
    "supportVector = SVR()"
   ]
  },
  {
   "cell_type": "markdown",
   "metadata": {},
   "source": [
    "### Testes por fit"
   ]
  },
  {
   "cell_type": "code",
   "execution_count": 36,
   "metadata": {},
   "outputs": [],
   "source": [
    "X_train, X_test, y_train, y_test = model_selection.train_test_split(X, Y, test_size=0.2, random_state=42)"
   ]
  },
  {
   "cell_type": "markdown",
   "metadata": {},
   "source": [
    "### Linear Regression"
   ]
  },
  {
   "cell_type": "code",
   "execution_count": 37,
   "metadata": {},
   "outputs": [
    {
     "name": "stdout",
     "output_type": "stream",
     "text": [
      "Previsões: [0.13820664 0.61106307 0.71278126 0.1279912  0.71684887 0.97760433\n",
      " 0.37771122 0.64218896 0.49525694 0.40706873]\n"
     ]
    }
   ],
   "source": [
    "linearReg.fit(X_train, y_train)\n",
    "\n",
    "y_pred = linearReg.predict(X_test)\n",
    "print(\"Previsões:\", y_pred[:10])\n"
   ]
  },
  {
   "cell_type": "code",
   "execution_count": 38,
   "metadata": {},
   "outputs": [
    {
     "name": "stdout",
     "output_type": "stream",
     "text": [
      "[-0.1144203  -0.01030204  0.09960172  0.59311501 -0.05712835  0.24095261\n",
      " -0.07550595 -0.06795311 -1.19533992  1.42507437 -0.28058173 -0.00216886\n",
      "  0.3374322   0.17842422 -0.17140218 -0.09950561  0.39563949  0.05883316\n",
      "  0.06690265  0.10312122 -0.12843137  0.05908376]\n"
     ]
    }
   ],
   "source": [
    "print(linearReg.coef_)"
   ]
  },
  {
   "cell_type": "code",
   "execution_count": 39,
   "metadata": {},
   "outputs": [
    {
     "name": "stdout",
     "output_type": "stream",
     "text": [
      "R^2 score: 0.7743193368735054\n"
     ]
    }
   ],
   "source": [
    "score = linearReg.score(X_test, y_test)\n",
    "print(\"R^2 score:\", score)"
   ]
  },
  {
   "cell_type": "markdown",
   "metadata": {},
   "source": [
    "### Árvore de decisão"
   ]
  },
  {
   "cell_type": "code",
   "execution_count": 40,
   "metadata": {},
   "outputs": [
    {
     "name": "stdout",
     "output_type": "stream",
     "text": [
      "Previsões: [0.0180716  0.50440352 0.74745511 0.14823287 0.85325403 0.95516413\n",
      " 0.15578177 0.59647718 0.34804987 0.29612261]\n"
     ]
    }
   ],
   "source": [
    "Dtree.fit(X_train, y_train)\n",
    "\n",
    "y_pred = Dtree.predict(X_test)\n",
    "print(\"Previsões:\", y_pred[:10])"
   ]
  },
  {
   "cell_type": "code",
   "execution_count": 41,
   "metadata": {},
   "outputs": [
    {
     "name": "stdout",
     "output_type": "stream",
     "text": [
      "271\n"
     ]
    }
   ],
   "source": [
    "print(Dtree.tree_.node_count)"
   ]
  },
  {
   "cell_type": "code",
   "execution_count": 42,
   "metadata": {},
   "outputs": [
    {
     "name": "stdout",
     "output_type": "stream",
     "text": [
      "R^2 score: 0.970711451286192\n"
     ]
    }
   ],
   "source": [
    "score = Dtree.score(X_test, y_test)\n",
    "print(\"R^2 score:\", score)"
   ]
  },
  {
   "cell_type": "markdown",
   "metadata": {},
   "source": [
    "Código para analise da arvore de decisão gerada retirado do site da Scikit Learning, disponivel em: https://scikit-learn.org/stable/auto_examples/tree/plot_unveil_tree_structure.html"
   ]
  },
  {
   "cell_type": "code",
   "execution_count": 43,
   "metadata": {},
   "outputs": [
    {
     "name": "stdout",
     "output_type": "stream",
     "text": [
      "The binary tree structure has 271 nodes and has the following tree structure:\n",
      "\n",
      "node=0 is a split node with value=[[0.36901506]]: go to node 1 if X[:, 3] <= 0.6411448419094086 else to node 200.\n",
      "\tnode=1 is a split node with value=[[0.24296656]]: go to node 2 if X[:, 3] <= 0.4746275395154953 else to node 161.\n",
      "\t\tnode=2 is a split node with value=[[0.19850166]]: go to node 3 if X[:, 6] <= 0.12395153567194939 else to node 106.\n",
      "\t\t\tnode=3 is a split node with value=[[0.15847183]]: go to node 4 if X[:, 3] <= 0.10608267039060593 else to node 29.\n",
      "\t\t\t\tnode=4 is a split node with value=[[0.25282644]]: go to node 5 if X[:, 3] <= 0.06771592050790787 else to node 24.\n",
      "\t\t\t\t\tnode=5 is a split node with value=[[0.26248427]]: go to node 6 if X[:, 12] <= 0.30368421971797943 else to node 11.\n",
      "\t\t\t\t\t\tnode=6 is a split node with value=[[0.27442907]]: go to node 7 if X[:, 8] <= 0.08153383061289787 else to node 10.\n",
      "\t\t\t\t\t\t\tnode=7 is a split node with value=[[0.27084525]]: go to node 8 if X[:, 8] <= 0.08083116635680199 else to node 9.\n",
      "\t\t\t\t\t\t\t\tnode=8 is a leaf node with value=[[0.27393343]].\n",
      "\t\t\t\t\t\t\t\tnode=9 is a leaf node with value=[[0.26775706]].\n",
      "\t\t\t\t\t\t\tnode=10 is a leaf node with value=[[0.28159671]].\n",
      "\t\t\t\t\t\tnode=11 is a split node with value=[[0.25736508]]: go to node 12 if X[:, 19] <= 0.3689735680818558 else to node 23.\n",
      "\t\t\t\t\t\t\tnode=12 is a split node with value=[[0.25931221]]: go to node 13 if X[:, 12] <= 0.3826315701007843 else to node 14.\n",
      "\t\t\t\t\t\t\t\tnode=13 is a leaf node with value=[[0.25494681]].\n",
      "\t\t\t\t\t\t\t\tnode=14 is a split node with value=[[0.26018529]]: go to node 15 if X[:, 14] <= 0.11856963858008385 else to node 16.\n",
      "\t\t\t\t\t\t\t\t\tnode=15 is a leaf node with value=[[0.25780624]].\n",
      "\t\t\t\t\t\t\t\t\tnode=16 is a split node with value=[[0.26078005]]: go to node 17 if X[:, 21] <= 0.4444444626569748 else to node 22.\n",
      "\t\t\t\t\t\t\t\t\t\tnode=17 is a split node with value=[[0.26032254]]: go to node 18 if X[:, 6] <= 0.0048589186917524785 else to node 19.\n",
      "\t\t\t\t\t\t\t\t\t\t\tnode=18 is a leaf node with value=[[0.26089443]].\n",
      "\t\t\t\t\t\t\t\t\t\t\tnode=19 is a split node with value=[[0.2600366]]: go to node 20 if X[:, 4] <= 0.0913705606944859 else to node 21.\n",
      "\t\t\t\t\t\t\t\t\t\t\t\tnode=20 is a leaf node with value=[[0.26032254]].\n",
      "\t\t\t\t\t\t\t\t\t\t\t\tnode=21 is a leaf node with value=[[0.25975066]].\n",
      "\t\t\t\t\t\t\t\t\t\tnode=22 is a leaf node with value=[[0.26215258]].\n",
      "\t\t\t\t\t\t\tnode=23 is a leaf node with value=[[0.24568226]].\n",
      "\t\t\t\t\tnode=24 is a split node with value=[[0.22063365]]: go to node 25 if X[:, 18] <= 0.4740099012851715 else to node 28.\n",
      "\t\t\t\t\t\tnode=25 is a split node with value=[[0.22715315]]: go to node 26 if X[:, 9] <= 0.04130450263619423 else to node 27.\n",
      "\t\t\t\t\t\t\tnode=26 is a leaf node with value=[[0.22395059]].\n",
      "\t\t\t\t\t\t\tnode=27 is a leaf node with value=[[0.23035571]].\n",
      "\t\t\t\t\t\tnode=28 is a leaf node with value=[[0.20759465]].\n",
      "\t\t\t\tnode=29 is a split node with value=[[0.1270203]]: go to node 30 if X[:, 8] <= 0.2704228311777115 else to node 65.\n",
      "\t\t\t\t\tnode=30 is a split node with value=[[0.06426729]]: go to node 31 if X[:, 12] <= 0.2536842077970505 else to node 58.\n",
      "\t\t\t\t\t\tnode=31 is a split node with value=[[0.04565285]]: go to node 32 if X[:, 12] <= 0.08263158053159714 else to node 39.\n",
      "\t\t\t\t\t\t\tnode=32 is a split node with value=[[0.01372527]]: go to node 33 if X[:, 18] <= 0.5123762488365173 else to node 38.\n",
      "\t\t\t\t\t\t\t\tnode=33 is a split node with value=[[0.01830035]]: go to node 34 if X[:, 19] <= 0.3979393392801285 else to node 37.\n",
      "\t\t\t\t\t\t\t\t\tnode=34 is a split node with value=[[0.01818598]]: go to node 35 if X[:, 20] <= 0.25722891092300415 else to node 36.\n",
      "\t\t\t\t\t\t\t\t\t\tnode=35 is a leaf node with value=[[0.01830035]].\n",
      "\t\t\t\t\t\t\t\t\t\tnode=36 is a leaf node with value=[[0.0180716]].\n",
      "\t\t\t\t\t\t\t\t\tnode=37 is a leaf node with value=[[0.01852911]].\n",
      "\t\t\t\t\t\t\t\tnode=38 is a leaf node with value=[[0.]].\n",
      "\t\t\t\t\t\t\tnode=39 is a split node with value=[[0.05842388]]: go to node 40 if X[:, 12] <= 0.12263157963752747 else to node 43.\n",
      "\t\t\t\t\t\t\t\tnode=40 is a split node with value=[[0.09527622]]: go to node 41 if X[:, 3] <= 0.22812814265489578 else to node 42.\n",
      "\t\t\t\t\t\t\t\t\tnode=41 is a leaf node with value=[[0.09973693]].\n",
      "\t\t\t\t\t\t\t\t\tnode=42 is a leaf node with value=[[0.09081551]].\n",
      "\t\t\t\t\t\t\t\tnode=43 is a split node with value=[[0.0492108]]: go to node 44 if X[:, 3] <= 0.18953736126422882 else to node 53.\n",
      "\t\t\t\t\t\t\t\t\tnode=44 is a split node with value=[[0.03838499]]: go to node 45 if X[:, 5] <= 0.0705537423491478 else to node 46.\n",
      "\t\t\t\t\t\t\t\t\t\tnode=45 is a leaf node with value=[[0.06485188]].\n",
      "\t\t\t\t\t\t\t\t\t\tnode=46 is a split node with value=[[0.03176827]]: go to node 47 if X[:, 9] <= 0.03495420701801777 else to node 50.\n",
      "\t\t\t\t\t\t\t\t\t\t\tnode=47 is a split node with value=[[0.02842274]]: go to node 48 if X[:, 14] <= 0.7823086678981781 else to node 49.\n",
      "\t\t\t\t\t\t\t\t\t\t\t\tnode=48 is a leaf node with value=[[0.02687865]].\n",
      "\t\t\t\t\t\t\t\t\t\t\t\tnode=49 is a leaf node with value=[[0.02996683]].\n",
      "\t\t\t\t\t\t\t\t\t\t\tnode=50 is a split node with value=[[0.03511381]]: go to node 51 if X[:, 15] <= 0.30441285111010075 else to node 52.\n",
      "\t\t\t\t\t\t\t\t\t\t\t\tnode=51 is a leaf node with value=[[0.03740135]].\n",
      "\t\t\t\t\t\t\t\t\t\t\t\tnode=52 is a leaf node with value=[[0.03282626]].\n",
      "\t\t\t\t\t\t\t\t\tnode=53 is a split node with value=[[0.0672538]]: go to node 54 if X[:, 14] <= 0.3544542044401169 else to node 57.\n",
      "\t\t\t\t\t\t\t\t\t\tnode=54 is a split node with value=[[0.07005604]]: go to node 55 if X[:, 12] <= 0.22789473831653595 else to node 56.\n",
      "\t\t\t\t\t\t\t\t\t\t\tnode=55 is a leaf node with value=[[0.06736818]].\n",
      "\t\t\t\t\t\t\t\t\t\t\tnode=56 is a leaf node with value=[[0.07274391]].\n",
      "\t\t\t\t\t\t\t\t\t\tnode=57 is a leaf node with value=[[0.06164932]].\n",
      "\t\t\t\t\t\tnode=58 is a split node with value=[[0.12941782]]: go to node 59 if X[:, 11] <= 0.16222604364156723 else to node 60.\n",
      "\t\t\t\t\t\t\tnode=59 is a leaf node with value=[[0.14823287]].\n",
      "\t\t\t\t\t\t\tnode=60 is a split node with value=[[0.12314614]]: go to node 61 if X[:, 19] <= 0.16290824115276337 else to node 62.\n",
      "\t\t\t\t\t\t\t\tnode=61 is a leaf node with value=[[0.11231843]].\n",
      "\t\t\t\t\t\t\t\tnode=62 is a split node with value=[[0.12855999]]: go to node 63 if X[:, 6] <= 0.02823596727102995 else to node 64.\n",
      "\t\t\t\t\t\t\t\t\tnode=63 is a leaf node with value=[[0.1305044]].\n",
      "\t\t\t\t\t\t\t\t\tnode=64 is a leaf node with value=[[0.12661558]].\n",
      "\t\t\t\t\tnode=65 is a split node with value=[[0.18080859]]: go to node 66 if X[:, 3] <= 0.4387812167406082 else to node 101.\n",
      "\t\t\t\t\t\tnode=66 is a split node with value=[[0.16470955]]: go to node 67 if X[:, 11] <= 0.17425870150327682 else to node 76.\n",
      "\t\t\t\t\t\t\tnode=67 is a split node with value=[[0.20054901]]: go to node 68 if X[:, 18] <= 0.6695544421672821 else to node 75.\n",
      "\t\t\t\t\t\t\t\tnode=68 is a split node with value=[[0.21365664]]: go to node 69 if X[:, 6] <= 0.08061781153082848 else to node 72.\n",
      "\t\t\t\t\t\t\t\t\tnode=69 is a split node with value=[[0.20490678]]: go to node 70 if X[:, 10] <= 0.24097472429275513 else to node 71.\n",
      "\t\t\t\t\t\t\t\t\t\tnode=70 is a leaf node with value=[[0.21045408]].\n",
      "\t\t\t\t\t\t\t\t\t\tnode=71 is a leaf node with value=[[0.19935949]].\n",
      "\t\t\t\t\t\t\t\t\tnode=72 is a split node with value=[[0.2224065]]: go to node 73 if X[:, 3] <= 0.4254465699195862 else to node 74.\n",
      "\t\t\t\t\t\t\t\t\t\tnode=73 is a leaf node with value=[[0.21983301]].\n",
      "\t\t\t\t\t\t\t\t\t\tnode=74 is a leaf node with value=[[0.22497998]].\n",
      "\t\t\t\t\t\t\t\tnode=75 is a leaf node with value=[[0.14811849]].\n",
      "\t\t\t\t\t\t\tnode=76 is a split node with value=[[0.15092514]]: go to node 77 if X[:, 19] <= 0.764580100774765 else to node 100.\n",
      "\t\t\t\t\t\t\t\tnode=77 is a split node with value=[[0.14738457]]: go to node 78 if X[:, 15] <= 0.24364248663187027 else to node 81.\n",
      "\t\t\t\t\t\t\t\t\tnode=78 is a split node with value=[[0.17070799]]: go to node 79 if X[:, 16] <= 0.18046928942203522 else to node 80.\n",
      "\t\t\t\t\t\t\t\t\t\tnode=79 is a leaf node with value=[[0.17465401]].\n",
      "\t\t\t\t\t\t\t\t\t\tnode=80 is a leaf node with value=[[0.16676198]].\n",
      "\t\t\t\t\t\t\t\t\tnode=81 is a split node with value=[[0.14271989]]: go to node 82 if X[:, 19] <= 0.37694402039051056 else to node 89.\n",
      "\t\t\t\t\t\t\t\t\t\tnode=82 is a split node with value=[[0.13344962]]: go to node 83 if X[:, 10] <= 0.20758122950792313 else to node 86.\n",
      "\t\t\t\t\t\t\t\t\t\t\tnode=83 is a split node with value=[[0.13925426]]: go to node 84 if X[:, 15] <= 0.36237846314907074 else to node 85.\n",
      "\t\t\t\t\t\t\t\t\t\t\t\tnode=84 is a leaf node with value=[[0.13599451]].\n",
      "\t\t\t\t\t\t\t\t\t\t\t\tnode=85 is a leaf node with value=[[0.14251401]].\n",
      "\t\t\t\t\t\t\t\t\t\t\tnode=86 is a split node with value=[[0.12764497]]: go to node 87 if X[:, 20] <= 0.39277108013629913 else to node 88.\n",
      "\t\t\t\t\t\t\t\t\t\t\t\tnode=87 is a leaf node with value=[[0.12947501]].\n",
      "\t\t\t\t\t\t\t\t\t\t\t\tnode=88 is a leaf node with value=[[0.12581494]].\n",
      "\t\t\t\t\t\t\t\t\t\tnode=89 is a split node with value=[[0.14890007]]: go to node 90 if X[:, 19] <= 0.5478226989507675 else to node 93.\n",
      "\t\t\t\t\t\t\t\t\t\t\tnode=90 is a split node with value=[[0.15555301]]: go to node 91 if X[:, 14] <= 0.3092848099768162 else to node 92.\n",
      "\t\t\t\t\t\t\t\t\t\t\t\tnode=91 is a leaf node with value=[[0.15532426]].\n",
      "\t\t\t\t\t\t\t\t\t\t\t\tnode=92 is a leaf node with value=[[0.15578177]].\n",
      "\t\t\t\t\t\t\t\t\t\t\tnode=93 is a split node with value=[[0.1455736]]: go to node 94 if X[:, 8] <= 0.4118005931377411 else to node 99.\n",
      "\t\t\t\t\t\t\t\t\t\t\t\tnode=94 is a split node with value=[[0.14720348]]: go to node 95 if X[:, 14] <= 0.020075282081961632 else to node 96.\n",
      "\t\t\t\t\t\t\t\t\t\t\t\t\tnode=95 is a leaf node with value=[[0.14663159]].\n",
      "\t\t\t\t\t\t\t\t\t\t\t\t\tnode=96 is a split node with value=[[0.14748942]]: go to node 97 if X[:, 9] <= 0.21833470463752747 else to node 98.\n",
      "\t\t\t\t\t\t\t\t\t\t\t\t\t\tnode=97 is a leaf node with value=[[0.14777536]].\n",
      "\t\t\t\t\t\t\t\t\t\t\t\t\t\tnode=98 is a leaf node with value=[[0.14720348]].\n",
      "\t\t\t\t\t\t\t\t\t\t\t\tnode=99 is a leaf node with value=[[0.14068398]].\n",
      "\t\t\t\t\t\t\t\tnode=100 is a leaf node with value=[[0.19341187]].\n",
      "\t\t\t\t\t\tnode=101 is a split node with value=[[0.27740287]]: go to node 102 if X[:, 19] <= 0.6877916157245636 else to node 105.\n",
      "\t\t\t\t\t\t\tnode=102 is a split node with value=[[0.24373785]]: go to node 103 if X[:, 5] <= 0.17027729004621506 else to node 104.\n",
      "\t\t\t\t\t\t\t\tnode=103 is a leaf node with value=[[0.24202219]].\n",
      "\t\t\t\t\t\t\t\tnode=104 is a leaf node with value=[[0.24545351]].\n",
      "\t\t\t\t\t\t\tnode=105 is a leaf node with value=[[0.34473293]].\n",
      "\t\t\tnode=106 is a split node with value=[[0.27284276]]: go to node 107 if X[:, 8] <= 0.43124207854270935 else to node 140.\n",
      "\t\t\t\tnode=107 is a split node with value=[[0.31694599]]: go to node 108 if X[:, 5] <= 0.32287006080150604 else to node 117.\n",
      "\t\t\t\t\tnode=108 is a split node with value=[[0.34024934]]: go to node 109 if X[:, 3] <= 0.2561330795288086 else to node 114.\n",
      "\t\t\t\t\t\tnode=109 is a split node with value=[[0.35277746]]: go to node 110 if X[:, 10] <= 0.25992779433727264 else to node 113.\n",
      "\t\t\t\t\t\t\tnode=110 is a split node with value=[[0.34970834]]: go to node 111 if X[:, 8] <= 0.3901878595352173 else to node 112.\n",
      "\t\t\t\t\t\t\t\tnode=111 is a leaf node with value=[[0.35079492]].\n",
      "\t\t\t\t\t\t\t\tnode=112 is a leaf node with value=[[0.34862175]].\n",
      "\t\t\t\t\t\t\tnode=113 is a leaf node with value=[[0.3589157]].\n",
      "\t\t\t\t\t\tnode=114 is a split node with value=[[0.32145717]]: go to node 115 if X[:, 7] <= 0.0555555559694767 else to node 116.\n",
      "\t\t\t\t\t\t\tnode=115 is a leaf node with value=[[0.31636738]].\n",
      "\t\t\t\t\t\t\tnode=116 is a leaf node with value=[[0.32654695]].\n",
      "\t\t\t\t\tnode=117 is a split node with value=[[0.30723627]]: go to node 118 if X[:, 0] <= 0.3870967775583267 else to node 139.\n",
      "\t\t\t\t\t\tnode=118 is a split node with value=[[0.30297485]]: go to node 119 if X[:, 10] <= 0.18953068554401398 else to node 126.\n",
      "\t\t\t\t\t\t\tnode=119 is a split node with value=[[0.31997026]]: go to node 120 if X[:, 12] <= 0.1331578940153122 else to node 123.\n",
      "\t\t\t\t\t\t\t\tnode=120 is a split node with value=[[0.31265012]]: go to node 121 if X[:, 14] <= 0.35947302356362343 else to node 122.\n",
      "\t\t\t\t\t\t\t\t\tnode=121 is a leaf node with value=[[0.31316482]].\n",
      "\t\t\t\t\t\t\t\t\tnode=122 is a leaf node with value=[[0.31213542]].\n",
      "\t\t\t\t\t\t\t\tnode=123 is a split node with value=[[0.3272904]]: go to node 124 if X[:, 11] <= 0.30232058465480804 else to node 125.\n",
      "\t\t\t\t\t\t\t\t\tnode=124 is a leaf node with value=[[0.33123642]].\n",
      "\t\t\t\t\t\t\t\t\tnode=125 is a leaf node with value=[[0.32334439]].\n",
      "\t\t\t\t\t\t\tnode=126 is a split node with value=[[0.29326318]]: go to node 127 if X[:, 16] <= 0.40303657948970795 else to node 132.\n",
      "\t\t\t\t\t\t\t\tnode=127 is a split node with value=[[0.28651493]]: go to node 128 if X[:, 0] <= 0.19354838132858276 else to node 129.\n",
      "\t\t\t\t\t\t\t\t\tnode=128 is a leaf node with value=[[0.27908041]].\n",
      "\t\t\t\t\t\t\t\t\tnode=129 is a split node with value=[[0.29023219]]: go to node 130 if X[:, 1] <= 0.4444444477558136 else to node 131.\n",
      "\t\t\t\t\t\t\t\t\t\tnode=130 is a leaf node with value=[[0.28971749]].\n",
      "\t\t\t\t\t\t\t\t\t\tnode=131 is a leaf node with value=[[0.29074688]].\n",
      "\t\t\t\t\t\t\t\tnode=132 is a split node with value=[[0.29832437]]: go to node 133 if X[:, 1] <= 0.2638888955116272 else to node 136.\n",
      "\t\t\t\t\t\t\t\t\tnode=133 is a split node with value=[[0.29532197]]: go to node 134 if X[:, 16] <= 0.4872325658798218 else to node 135.\n",
      "\t\t\t\t\t\t\t\t\t\tnode=134 is a leaf node with value=[[0.29452133]].\n",
      "\t\t\t\t\t\t\t\t\t\tnode=135 is a leaf node with value=[[0.29612261]].\n",
      "\t\t\t\t\t\t\t\t\tnode=136 is a split node with value=[[0.30132678]]: go to node 137 if X[:, 16] <= 0.46894408762454987 else to node 138.\n",
      "\t\t\t\t\t\t\t\t\t\tnode=137 is a leaf node with value=[[0.30275649]].\n",
      "\t\t\t\t\t\t\t\t\t\tnode=138 is a leaf node with value=[[0.29989706]].\n",
      "\t\t\t\t\t\tnode=139 is a leaf node with value=[[0.35411186]].\n",
      "\t\t\t\tnode=140 is a split node with value=[[0.20468323]]: go to node 141 if X[:, 1] <= 0.5694444477558136 else to node 150.\n",
      "\t\t\t\t\tnode=141 is a split node with value=[[0.24103855]]: go to node 142 if X[:, 8] <= 0.4613695591688156 else to node 147.\n",
      "\t\t\t\t\t\tnode=142 is a split node with value=[[0.25929315]]: go to node 143 if X[:, 9] <= 0.3070421665906906 else to node 144.\n",
      "\t\t\t\t\t\t\tnode=143 is a leaf node with value=[[0.2761066]].\n",
      "\t\t\t\t\t\t\tnode=144 is a split node with value=[[0.25088642]]: go to node 145 if X[:, 8] <= 0.45219990611076355 else to node 146.\n",
      "\t\t\t\t\t\t\t\tnode=145 is a leaf node with value=[[0.25757749]].\n",
      "\t\t\t\t\t\t\t\tnode=146 is a leaf node with value=[[0.24419536]].\n",
      "\t\t\t\t\t\tnode=147 is a split node with value=[[0.21365664]]: go to node 148 if X[:, 15] <= 0.3208676129579544 else to node 149.\n",
      "\t\t\t\t\t\t\tnode=148 is a leaf node with value=[[0.1973007]].\n",
      "\t\t\t\t\t\t\tnode=149 is a leaf node with value=[[0.23001258]].\n",
      "\t\t\t\t\tnode=150 is a split node with value=[[0.17438713]]: go to node 151 if X[:, 9] <= 0.3220164477825165 else to node 154.\n",
      "\t\t\t\t\t\tnode=151 is a split node with value=[[0.1530939]]: go to node 152 if X[:, 8] <= 0.44140371680259705 else to node 153.\n",
      "\t\t\t\t\t\t\tnode=152 is a leaf node with value=[[0.15097793]].\n",
      "\t\t\t\t\t\t\tnode=153 is a leaf node with value=[[0.15520988]].\n",
      "\t\t\t\t\t\tnode=154 is a split node with value=[[0.18503374]]: go to node 155 if X[:, 20] <= 0.35180722177028656 else to node 158.\n",
      "\t\t\t\t\t\t\tnode=155 is a split node with value=[[0.18849365]]: go to node 156 if X[:, 13] <= 0.0011709601385518909 else to node 157.\n",
      "\t\t\t\t\t\t\t\tnode=156 is a leaf node with value=[[0.18597735]].\n",
      "\t\t\t\t\t\t\t\tnode=157 is a leaf node with value=[[0.19100995]].\n",
      "\t\t\t\t\t\t\tnode=158 is a split node with value=[[0.18157383]]: go to node 159 if X[:, 5] <= 0.3103124648332596 else to node 160.\n",
      "\t\t\t\t\t\t\t\tnode=159 is a leaf node with value=[[0.18334668]].\n",
      "\t\t\t\t\t\t\t\tnode=160 is a leaf node with value=[[0.17980098]].\n",
      "\t\tnode=161 is a split node with value=[[0.41235668]]: go to node 162 if X[:, 10] <= 0.11281587928533554 else to node 165.\n",
      "\t\t\tnode=162 is a split node with value=[[0.26283884]]: go to node 163 if X[:, 13] <= 0.0011709601385518909 else to node 164.\n",
      "\t\t\t\tnode=163 is a leaf node with value=[[0.26890083]].\n",
      "\t\t\t\tnode=164 is a leaf node with value=[[0.25677685]].\n",
      "\t\t\tnode=165 is a split node with value=[[0.4280954]]: go to node 166 if X[:, 10] <= 0.3032491058111191 else to node 191.\n",
      "\t\t\t\tnode=166 is a split node with value=[[0.45409326]]: go to node 167 if X[:, 21] <= 0.01626016292721033 else to node 180.\n",
      "\t\t\t\t\tnode=167 is a split node with value=[[0.4208252]]: go to node 168 if X[:, 18] <= 0.2054455429315567 else to node 173.\n",
      "\t\t\t\t\t\tnode=168 is a split node with value=[[0.35201495]]: go to node 169 if X[:, 5] <= 0.21350423246622086 else to node 170.\n",
      "\t\t\t\t\t\t\tnode=169 is a leaf node with value=[[0.29783827]].\n",
      "\t\t\t\t\t\t\tnode=170 is a split node with value=[[0.37910328]]: go to node 171 if X[:, 10] <= 0.15794223546981812 else to node 172.\n",
      "\t\t\t\t\t\t\t\tnode=171 is a leaf node with value=[[0.3855656]].\n",
      "\t\t\t\t\t\t\t\tnode=172 is a leaf node with value=[[0.37264097]].\n",
      "\t\t\t\t\t\tnode=173 is a split node with value=[[0.47243289]]: go to node 174 if X[:, 16] <= 0.5741891115903854 else to node 177.\n",
      "\t\t\t\t\t\t\tnode=174 is a split node with value=[[0.43914692]]: go to node 175 if X[:, 0] <= 0.08064515888690948 else to node 176.\n",
      "\t\t\t\t\t\t\t\tnode=175 is a leaf node with value=[[0.44012353]].\n",
      "\t\t\t\t\t\t\t\tnode=176 is a leaf node with value=[[0.43817032]].\n",
      "\t\t\t\t\t\t\tnode=177 is a split node with value=[[0.50571886]]: go to node 178 if X[:, 15] <= 0.5514210760593414 else to node 179.\n",
      "\t\t\t\t\t\t\t\tnode=178 is a leaf node with value=[[0.50028594]].\n",
      "\t\t\t\t\t\t\t\tnode=179 is a leaf node with value=[[0.51115178]].\n",
      "\t\t\t\t\tnode=180 is a split node with value=[[0.48736132]]: go to node 181 if X[:, 11] <= 0.7002578377723694 else to node 190.\n",
      "\t\t\t\t\t\tnode=181 is a split node with value=[[0.47529452]]: go to node 182 if X[:, 13] <= 0.22716627642512321 else to node 187.\n",
      "\t\t\t\t\t\t\tnode=182 is a split node with value=[[0.45308628]]: go to node 183 if X[:, 4] <= 0.02030456904321909 else to node 184.\n",
      "\t\t\t\t\t\t\t\tnode=183 is a leaf node with value=[[0.46894659]].\n",
      "\t\t\t\t\t\t\t\tnode=184 is a split node with value=[[0.44515612]]: go to node 185 if X[:, 12] <= 0.28842106461524963 else to node 186.\n",
      "\t\t\t\t\t\t\t\t\tnode=185 is a leaf node with value=[[0.44492737]].\n",
      "\t\t\t\t\t\t\t\t\tnode=186 is a leaf node with value=[[0.44538488]].\n",
      "\t\t\t\t\t\t\tnode=187 is a split node with value=[[0.49750276]]: go to node 188 if X[:, 12] <= 0.3784210532903671 else to node 189.\n",
      "\t\t\t\t\t\t\t\tnode=188 is a leaf node with value=[[0.50646231]].\n",
      "\t\t\t\t\t\t\t\tnode=189 is a leaf node with value=[[0.47958367]].\n",
      "\t\t\t\t\t\tnode=190 is a leaf node with value=[[0.5597621]].\n",
      "\t\t\t\tnode=191 is a split node with value=[[0.35530138]]: go to node 192 if X[:, 12] <= 0.2831578999757767 else to node 193.\n",
      "\t\t\t\t\tnode=192 is a leaf node with value=[[0.29955393]].\n",
      "\t\t\t\t\tnode=193 is a split node with value=[[0.36923825]]: go to node 194 if X[:, 16] <= 0.5693581700325012 else to node 197.\n",
      "\t\t\t\t\t\tnode=194 is a split node with value=[[0.38962599]]: go to node 195 if X[:, 14] <= 0.30991216003894806 else to node 196.\n",
      "\t\t\t\t\t\t\tnode=195 is a leaf node with value=[[0.37824545]].\n",
      "\t\t\t\t\t\t\tnode=196 is a leaf node with value=[[0.40100652]].\n",
      "\t\t\t\t\t\tnode=197 is a split node with value=[[0.34885051]]: go to node 198 if X[:, 0] <= 0.3870967775583267 else to node 199.\n",
      "\t\t\t\t\t\t\tnode=198 is a leaf node with value=[[0.34804987]].\n",
      "\t\t\t\t\t\t\tnode=199 is a leaf node with value=[[0.34965115]].\n",
      "\tnode=200 is a split node with value=[[0.72265114]]: go to node 201 if X[:, 8] <= 0.6792371571063995 else to node 238.\n",
      "\t\tnode=201 is a split node with value=[[0.58847078]]: go to node 202 if X[:, 9] <= 0.4830681383609772 else to node 231.\n",
      "\t\t\tnode=202 is a split node with value=[[0.56519883]]: go to node 203 if X[:, 16] <= 0.5162180960178375 else to node 226.\n",
      "\t\t\t\tnode=203 is a split node with value=[[0.55056426]]: go to node 204 if X[:, 11] <= 0.777180939912796 else to node 213.\n",
      "\t\t\t\t\tnode=204 is a split node with value=[[0.52133135]]: go to node 205 if X[:, 21] <= 0.024390242993831635 else to node 210.\n",
      "\t\t\t\t\t\tnode=205 is a split node with value=[[0.53101529]]: go to node 206 if X[:, 0] <= 0.134408600628376 else to node 207.\n",
      "\t\t\t\t\t\t\tnode=206 is a leaf node with value=[[0.54031797]].\n",
      "\t\t\t\t\t\t\tnode=207 is a split node with value=[[0.52636395]]: go to node 208 if X[:, 10] <= 0.27797834761440754 else to node 209.\n",
      "\t\t\t\t\t\t\t\tnode=208 is a leaf node with value=[[0.52899462]].\n",
      "\t\t\t\t\t\t\t\tnode=209 is a leaf node with value=[[0.52373327]].\n",
      "\t\t\t\t\t\tnode=210 is a split node with value=[[0.50680544]]: go to node 211 if X[:, 9] <= 0.4321579337120056 else to node 212.\n",
      "\t\t\t\t\t\t\tnode=211 is a leaf node with value=[[0.50920737]].\n",
      "\t\t\t\t\t\t\tnode=212 is a leaf node with value=[[0.50440352]].\n",
      "\t\t\t\t\tnode=213 is a split node with value=[[0.57144491]]: go to node 214 if X[:, 21] <= 0.00948509480804205 else to node 225.\n",
      "\t\t\t\t\t\tnode=214 is a split node with value=[[0.58141751]]: go to node 215 if X[:, 18] <= 0.054455444565974176 else to node 218.\n",
      "\t\t\t\t\t\t\tnode=215 is a split node with value=[[0.5682832]]: go to node 216 if X[:, 19] <= 0.5009719878435135 else to node 217.\n",
      "\t\t\t\t\t\t\t\tnode=216 is a leaf node with value=[[0.56822601]].\n",
      "\t\t\t\t\t\t\t\tnode=217 is a leaf node with value=[[0.56834039]].\n",
      "\t\t\t\t\t\t\tnode=218 is a split node with value=[[0.58798467]]: go to node 219 if X[:, 7] <= 0.005291005130857229 else to node 222.\n",
      "\t\t\t\t\t\t\t\tnode=219 is a split node with value=[[0.59613405]]: go to node 220 if X[:, 21] <= 0.0013550135772675276 else to node 221.\n",
      "\t\t\t\t\t\t\t\t\tnode=220 is a leaf node with value=[[0.59579092]].\n",
      "\t\t\t\t\t\t\t\t\tnode=221 is a leaf node with value=[[0.59647718]].\n",
      "\t\t\t\t\t\t\t\tnode=222 is a split node with value=[[0.5798353]]: go to node 223 if X[:, 6] <= 0.16986007243394852 else to node 224.\n",
      "\t\t\t\t\t\t\t\t\tnode=223 is a leaf node with value=[[0.57954935]].\n",
      "\t\t\t\t\t\t\t\t\tnode=224 is a leaf node with value=[[0.58012124]].\n",
      "\t\t\t\t\t\tnode=225 is a leaf node with value=[[0.51160929]].\n",
      "\t\t\t\tnode=226 is a split node with value=[[0.62373708]]: go to node 227 if X[:, 3] <= 0.7409543991088867 else to node 230.\n",
      "\t\t\t\t\tnode=227 is a split node with value=[[0.60854398]]: go to node 228 if X[:, 14] <= 0.6474278569221497 else to node 229.\n",
      "\t\t\t\t\t\tnode=228 is a leaf node with value=[[0.60013725]].\n",
      "\t\t\t\t\t\tnode=229 is a leaf node with value=[[0.6169507]].\n",
      "\t\t\t\t\tnode=230 is a leaf node with value=[[0.6541233]].\n",
      "\t\t\tnode=231 is a split node with value=[[0.67574059]]: go to node 232 if X[:, 21] <= 0.19647696986794472 else to node 237.\n",
      "\t\t\t\tnode=232 is a split node with value=[[0.66132906]]: go to node 233 if X[:, 0] <= 0.2526881694793701 else to node 236.\n",
      "\t\t\t\t\tnode=233 is a split node with value=[[0.65246483]]: go to node 234 if X[:, 3] <= 0.7804973721504211 else to node 235.\n",
      "\t\t\t\t\t\tnode=234 is a leaf node with value=[[0.64680316]].\n",
      "\t\t\t\t\t\tnode=235 is a leaf node with value=[[0.6581265]].\n",
      "\t\t\t\t\tnode=236 is a leaf node with value=[[0.67905753]].\n",
      "\t\t\t\tnode=237 is a leaf node with value=[[0.71897518]].\n",
      "\t\tnode=238 is a split node with value=[[0.87261742]]: go to node 239 if X[:, 6] <= 0.2855642959475517 else to node 258.\n",
      "\t\t\tnode=239 is a split node with value=[[0.94277708]]: go to node 240 if X[:, 11] <= 0.5107434391975403 else to node 249.\n",
      "\t\t\t\tnode=240 is a split node with value=[[0.90001144]]: go to node 241 if X[:, 12] <= 0.19684210419654846 else to node 244.\n",
      "\t\t\t\t\tnode=241 is a split node with value=[[0.93457623]]: go to node 242 if X[:, 1] <= 0.0694444477558136 else to node 243.\n",
      "\t\t\t\t\t\tnode=242 is a leaf node with value=[[0.91787716]].\n",
      "\t\t\t\t\t\tnode=243 is a leaf node with value=[[0.95127531]].\n",
      "\t\t\t\t\tnode=244 is a split node with value=[[0.87696824]]: go to node 245 if X[:, 13] <= 0.04215456545352936 else to node 248.\n",
      "\t\t\t\t\t\tnode=245 is a split node with value=[[0.88882535]]: go to node 246 if X[:, 9] <= 0.8449439704418182 else to node 247.\n",
      "\t\t\t\t\t\t\tnode=246 is a leaf node with value=[[0.88493652]].\n",
      "\t\t\t\t\t\t\tnode=247 is a leaf node with value=[[0.89271417]].\n",
      "\t\t\t\t\t\tnode=248 is a leaf node with value=[[0.85325403]].\n",
      "\t\t\t\tnode=249 is a split node with value=[[0.98554272]]: go to node 250 if X[:, 12] <= 0.28736841678619385 else to node 251.\n",
      "\t\t\t\t\tnode=250 is a leaf node with value=[[0.95516413]].\n",
      "\t\t\t\t\tnode=251 is a split node with value=[[0.99313737]]: go to node 252 if X[:, 9] <= 0.8307010531425476 else to node 253.\n",
      "\t\t\t\t\t\tnode=252 is a leaf node with value=[[0.98398719]].\n",
      "\t\t\t\t\t\tnode=253 is a split node with value=[[0.99618743]]: go to node 254 if X[:, 0] <= 0.08064515888690948 else to node 255.\n",
      "\t\t\t\t\t\t\tnode=254 is a leaf node with value=[[1.]].\n",
      "\t\t\t\t\t\t\tnode=255 is a split node with value=[[0.99428114]]: go to node 256 if X[:, 6] <= 0.15539539605379105 else to node 257.\n",
      "\t\t\t\t\t\t\t\tnode=256 is a leaf node with value=[[0.99450989]].\n",
      "\t\t\t\t\t\t\t\tnode=257 is a leaf node with value=[[0.99405238]].\n",
      "\t\t\tnode=258 is a split node with value=[[0.77238934]]: go to node 259 if X[:, 7] <= 0.0701058185659349 else to node 266.\n",
      "\t\t\t\tnode=259 is a split node with value=[[0.78654352]]: go to node 260 if X[:, 20] <= 0.2042168639600277 else to node 261.\n",
      "\t\t\t\t\tnode=260 is a leaf node with value=[[0.79743795]].\n",
      "\t\t\t\t\tnode=261 is a split node with value=[[0.78291204]]: go to node 262 if X[:, 12] <= 0.2199999988079071 else to node 263.\n",
      "\t\t\t\t\t\tnode=262 is a leaf node with value=[[0.78519959]].\n",
      "\t\t\t\t\t\tnode=263 is a split node with value=[[0.78176827]]: go to node 264 if X[:, 8] <= 0.9976720213890076 else to node 265.\n",
      "\t\t\t\t\t\t\tnode=264 is a leaf node with value=[[0.78234016]].\n",
      "\t\t\t\t\t\t\tnode=265 is a leaf node with value=[[0.78119639]].\n",
      "\t\t\t\tnode=266 is a split node with value=[[0.7535171]]: go to node 267 if X[:, 11] <= 0.24430596828460693 else to node 268.\n",
      "\t\t\t\t\tnode=267 is a leaf node with value=[[0.7650692]].\n",
      "\t\t\t\t\tnode=268 is a split node with value=[[0.74774105]]: go to node 269 if X[:, 15] <= 0.408189982175827 else to node 270.\n",
      "\t\t\t\t\t\tnode=269 is a leaf node with value=[[0.74745511]].\n",
      "\t\t\t\t\t\tnode=270 is a leaf node with value=[[0.74802699]].\n"
     ]
    }
   ],
   "source": [
    "n_nodes = Dtree.tree_.node_count\n",
    "children_left = Dtree.tree_.children_left\n",
    "children_right = Dtree.tree_.children_right\n",
    "feature = Dtree.tree_.feature\n",
    "threshold = Dtree.tree_.threshold\n",
    "values = Dtree.tree_.value\n",
    "\n",
    "node_depth = np.zeros(shape=n_nodes, dtype=np.int64)\n",
    "is_leaves = np.zeros(shape=n_nodes, dtype=bool)\n",
    "stack = [(0, 0)]  # start with the root node id (0) and its depth (0)\n",
    "while len(stack) > 0:\n",
    "    # `pop` ensures each node is only visited once\n",
    "    node_id, depth = stack.pop()\n",
    "    node_depth[node_id] = depth\n",
    "\n",
    "    # If the left and right child of a node is not the same we have a split\n",
    "    # node\n",
    "    is_split_node = children_left[node_id] != children_right[node_id]\n",
    "    # If a split node, append left and right children and depth to `stack`\n",
    "    # so we can loop through them\n",
    "    if is_split_node:\n",
    "        stack.append((children_left[node_id], depth + 1))\n",
    "        stack.append((children_right[node_id], depth + 1))\n",
    "    else:\n",
    "        is_leaves[node_id] = True\n",
    "\n",
    "print(\n",
    "    \"The binary tree structure has {n} nodes and has \"\n",
    "    \"the following tree structure:\\n\".format(n=n_nodes)\n",
    ")\n",
    "for i in range(n_nodes):\n",
    "    if is_leaves[i]:\n",
    "        print(\n",
    "            \"{space}node={node} is a leaf node with value={value}.\".format(\n",
    "                space=node_depth[i] * \"\\t\", node=i, value=values[i]\n",
    "            )\n",
    "        )\n",
    "    else:\n",
    "        print(\n",
    "            \"{space}node={node} is a split node with value={value}: \"\n",
    "            \"go to node {left} if X[:, {feature}] <= {threshold} \"\n",
    "            \"else to node {right}.\".format(\n",
    "                space=node_depth[i] * \"\\t\",\n",
    "                node=i,\n",
    "                left=children_left[i],\n",
    "                feature=feature[i],\n",
    "                threshold=threshold[i],\n",
    "                right=children_right[i],\n",
    "                value=values[i],\n",
    "            )\n",
    "        )"
   ]
  },
  {
   "cell_type": "markdown",
   "metadata": {},
   "source": [
    "### Floresta Aleatoria"
   ]
  },
  {
   "cell_type": "code",
   "execution_count": 44,
   "metadata": {},
   "outputs": [
    {
     "name": "stdout",
     "output_type": "stream",
     "text": [
      "Previsões: [0.04169621 0.56345991 0.74784513 0.14251973 0.89932632 0.95362118\n",
      " 0.18291996 0.56699074 0.41443467 0.31211941]\n"
     ]
    }
   ],
   "source": [
    "forest.fit(X_train, y_train)\n",
    "\n",
    "y_pred = forest.predict(X_test)\n",
    "print(\"Previsões:\", y_pred[:10])"
   ]
  },
  {
   "cell_type": "code",
   "execution_count": 45,
   "metadata": {},
   "outputs": [
    {
     "name": "stdout",
     "output_type": "stream",
     "text": [
      "R^2 score: 0.978703094407059\n"
     ]
    }
   ],
   "source": [
    "score = forest.score(X_test, y_test)\n",
    "print(\"R^2 score:\", score)"
   ]
  },
  {
   "cell_type": "markdown",
   "metadata": {},
   "source": [
    "### Boosting de Gradiente"
   ]
  },
  {
   "cell_type": "code",
   "execution_count": 46,
   "metadata": {},
   "outputs": [
    {
     "name": "stdout",
     "output_type": "stream",
     "text": [
      "Previsões: [0.03079668 0.56533936 0.73611788 0.15419837 0.86136649 0.96158482\n",
      " 0.19786776 0.56255851 0.44088295 0.33043663]\n"
     ]
    }
   ],
   "source": [
    "boosting.fit(X_train, y_train)\n",
    "\n",
    "y_pred = boosting.predict(X_test)\n",
    "print(\"Previsões:\", y_pred[:10])"
   ]
  },
  {
   "cell_type": "code",
   "execution_count": 47,
   "metadata": {},
   "outputs": [
    {
     "name": "stdout",
     "output_type": "stream",
     "text": [
      "R^2 score: 0.966719956216872\n"
     ]
    }
   ],
   "source": [
    "score = boosting.score(X_test, y_test)\n",
    "print(\"R^2 score:\", score)"
   ]
  },
  {
   "cell_type": "markdown",
   "metadata": {},
   "source": [
    "### Support Vector"
   ]
  },
  {
   "cell_type": "code",
   "execution_count": 48,
   "metadata": {},
   "outputs": [
    {
     "name": "stdout",
     "output_type": "stream",
     "text": [
      "Previsões: [0.09736798 0.66388512 0.68831663 0.14788433 0.76942262 0.92412936\n",
      " 0.29357767 0.60849423 0.40973288 0.3183579 ]\n"
     ]
    }
   ],
   "source": [
    "supportVector.fit(X_train, y_train)\n",
    "\n",
    "y_pred = supportVector.predict(X_test)\n",
    "print(\"Previsões:\", y_pred[:10])"
   ]
  },
  {
   "cell_type": "code",
   "execution_count": 49,
   "metadata": {},
   "outputs": [
    {
     "name": "stdout",
     "output_type": "stream",
     "text": [
      "R^2 score: 0.8322128167607192\n"
     ]
    }
   ],
   "source": [
    "score = supportVector.score(X_test, y_test)\n",
    "print(\"R^2 score:\", score)"
   ]
  },
  {
   "cell_type": "markdown",
   "metadata": {},
   "source": [
    "### K-fold\n",
    "  Cria-se o modelo k-fold utilizando 12 folds (a\n",
    "partir de 12 folds não houve melhoria consideravel nos valores de acurácia nas saídas, e se tornam bastante custosos a partir deste ponto)"
   ]
  },
  {
   "cell_type": "code",
   "execution_count": 50,
   "metadata": {},
   "outputs": [],
   "source": [
    "seed = 0\n",
    "kfold = model_selection.KFold(n_splits=12, random_state=seed, shuffle=True)"
   ]
  },
  {
   "cell_type": "code",
   "execution_count": 51,
   "metadata": {},
   "outputs": [],
   "source": [
    "linearReg = LinearRegression()\n",
    "tree = DecisionTreeRegressor()\n",
    "forest = RandomForestRegressor()\n",
    "boosting = GradientBoostingRegressor()\n",
    "supportVector = SVR()"
   ]
  },
  {
   "cell_type": "markdown",
   "metadata": {},
   "source": [
    "### Cross Validation\n",
    "Executa o cross validation dos K-folds nos modelos de teste"
   ]
  },
  {
   "cell_type": "code",
   "execution_count": 52,
   "metadata": {},
   "outputs": [],
   "source": [
    "results = [['Linear Regression:', model_selection.cross_val_score(linearReg, X, Y, cv=kfold)],\n",
    "           ['Decision Tree:', model_selection.cross_val_score(tree, X, Y, cv=kfold)],\n",
    "           ['Random Forest:', model_selection.cross_val_score(forest, X, Y, cv=kfold)],\n",
    "           ['Gradient Boosting:', model_selection.cross_val_score(boosting, X, Y, cv=kfold)],\n",
    "           ['Support Vector:', model_selection.cross_val_score(supportVector, X, Y, cv=kfold)],\n",
    "]"
   ]
  },
  {
   "cell_type": "markdown",
   "metadata": {},
   "source": [
    "### Analise\n",
    "Analise final dos testes de cross validation, sendo apresentados os dados de acurácia média entre os diferentes modelos"
   ]
  },
  {
   "cell_type": "code",
   "execution_count": 53,
   "metadata": {},
   "outputs": [
    {
     "name": "stdout",
     "output_type": "stream",
     "text": [
      "Linear Regression: [0.84577921 0.81880755 0.67316311 0.78250798 0.62509547 0.86103952\n",
      " 0.59735783 0.84649799 0.84674514 0.39750102 0.87190733 0.82943846]\n",
      "Média 0.7496533844182457\n",
      "\n",
      "Decision Tree: [0.85696598 0.70029311 0.95640373 0.97958936 0.93150993 0.95295444\n",
      " 0.90699401 0.95855984 0.94657714 0.78940698 0.97018689 0.96675631]\n",
      "Média 0.9096831411341816\n",
      "\n",
      "Random Forest: [0.97521025 0.81312484 0.96429608 0.98426041 0.87290358 0.97024461\n",
      " 0.98388303 0.9817056  0.96417296 0.91425898 0.98441123 0.97319237]\n",
      "Média 0.9484719964854166\n",
      "\n",
      "Gradient Boosting: [0.96362845 0.87111076 0.9484067  0.98234106 0.8378169  0.97657307\n",
      " 0.9804896  0.97249734 0.97669259 0.80375354 0.98367509 0.94997236]\n",
      "Média 0.9372464551402091\n",
      "\n",
      "Support Vector: [0.80028897 0.75597856 0.76471198 0.87613245 0.78715577 0.78719741\n",
      " 0.73192689 0.8718502  0.83493065 0.69052611 0.85507449 0.69814194]\n",
      "Média 0.7878262846982031\n",
      "\n"
     ]
    }
   ],
   "source": [
    "for result in results:\n",
    "    print(result[0], result[1])\n",
    "    print('Média', result[1].mean())\n",
    "    print()"
   ]
  },
  {
   "cell_type": "markdown",
   "metadata": {},
   "source": [
    "Foram encontrados melhores resultados nos casos de Florestas Aleatória, Boosting de Gradiente e Árvore de Decisão"
   ]
  }
 ],
 "metadata": {
  "kernelspec": {
   "display_name": "Python 3",
   "language": "python",
   "name": "python3"
  },
  "language_info": {
   "codemirror_mode": {
    "name": "ipython",
    "version": 3
   },
   "file_extension": ".py",
   "mimetype": "text/x-python",
   "name": "python",
   "nbconvert_exporter": "python",
   "pygments_lexer": "ipython3",
   "version": "3.11.4"
  }
 },
 "nbformat": 4,
 "nbformat_minor": 2
}
